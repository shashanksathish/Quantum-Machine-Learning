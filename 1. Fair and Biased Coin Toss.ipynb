{
 "cells": [
  {
   "cell_type": "markdown",
   "metadata": {},
   "source": [
    "# ODSC Lab 1: Fair and Biased Coin Flip Solution"
   ]
  },
  {
   "cell_type": "markdown",
   "metadata": {},
   "source": [
    "One of the powers of quantum is that we can easily generate coin flips by coding a simple circuit and measuring the probabilities of our qubit states. Let's assign a 'Heads' coin flip to our qubit outcome '0' and assign a 'Tails' flip to our qubit outcome '1'. In this lab, we will construct quantum circuit that create a fair 50-50 distribution, a 70-30 biased distrubtion, and a 0-100 completely biased distribution. Before trying the labs yourself, please make use of the Pyquil helper notation below! "
   ]
  },
  {
   "cell_type": "markdown",
   "metadata": {},
   "source": [
    "## Necessary Imports"
   ]
  },
  {
   "cell_type": "code",
   "execution_count": 5,
   "metadata": {},
   "outputs": [],
   "source": [
    "#load the necessary packages and libraries\n",
    "from pyquil.quil import Program\n",
    "import pyquil.api as api\n",
    "from pyquil.gates import *\n",
    "import matplotlib.pyplot as plt\n",
    "from random import *\n",
    "import numpy as np\n",
    "import math\n",
    "\n",
    "qvm = api.QVMConnection()  "
   ]
  },
  {
   "cell_type": "markdown",
   "metadata": {},
   "source": [
    "## Pyquil Notation Tricks "
   ]
  },
  {
   "cell_type": "code",
   "execution_count": 6,
   "metadata": {},
   "outputs": [],
   "source": [
    "n_qubits = 1 #Sets the number of qubits or coin flips \n",
    "\n",
    "theta = math.pi #Sets the 1-qubit gate rotation angle thetea to pi\n",
    "\n",
    "main_program = Program() #Creates a quantum circuit program \n",
    "\n",
    "main_program += H(0) #Performs a Hadamard Gate on the 0th qubit \n",
    "\n",
    "main_program += X(0) #Performs a Not Gate on the 0th qubit \n",
    "\n",
    "main_program += CNOT(0,1) #Performs a Controlled-Not Gate with 0th qubit as the control and the 1st qubit as the target\n",
    "\n",
    "main_program += RZ(theta, 0) #Performs a Pauli Z Rotation by angle theta on the 0th qubit \n",
    "\n",
    "main_program += RX(theta, 0) #Performs a Pauli X Rotation by angle theta on the 0th qubit \n",
    "\n",
    "main_program += RY(theta, 0) #Performs a Pauli Y Rotation by angle theta on the 0th qubit \n",
    "\n",
    "wave_function =  qvm.wavefunction(main_program) #Get the output quantum circuit wavefunction\n",
    "\n",
    "probs_dist    =  wave_function.get_outcome_probs()  #Get the probability distribution"
   ]
  },
  {
   "cell_type": "markdown",
   "metadata": {},
   "source": [
    "## Circuit 1: Fair Coin"
   ]
  },
  {
   "cell_type": "markdown",
   "metadata": {},
   "source": [
    "In order to generate a fair coin distribution, we want the probability of getting a 'Heads' to be the same as the probability of getting a 'Tails'. "
   ]
  },
  {
   "cell_type": "code",
   "execution_count": 4,
   "metadata": {},
   "outputs": [
    {
     "name": "stdout",
     "output_type": "stream",
     "text": [
      "{'0': 0.4999999999999999, '1': 0.4999999999999999}\n"
     ]
    }
   ],
   "source": [
    "n_qubits = 1 #Sets the number of qubits or coin flips \n",
    "main_program = Program() #Creates a quantum circuit program \n",
    "for i in range(n_qubits): \n",
    "    main_program += H(i) #Performs a Hadamard Gate on the ith qubit \n",
    "wave_function =  qvm.wavefunction(main_program) #Get the output quantum circuit wavefunction\n",
    "probs_dist    =  wave_function.get_outcome_probs()  #Get the probability distribution\n",
    "print(probs_dist)"
   ]
  },
  {
   "attachments": {
    "df678ff3-dd04-4bb9-8262-1f3793daeabd.png": {
     "image/png": "[encoded data removed]"
    }
   },
   "cell_type": "markdown",
   "metadata": {},
   "source": [
    "![image.png](attachment:df678ff3-dd04-4bb9-8262-1f3793daeabd.png)"
   ]
  },
  {
   "cell_type": "markdown",
   "metadata": {},
   "source": [
    "## Circuit 2: 70-30 Biased Coin"
   ]
  },
  {
   "cell_type": "markdown",
   "metadata": {},
   "source": [
    "In order to generate a 70-30 biased coin distribution, we want the probability of getting a 'Heads' to be 0.7 and the probability of getting a 'Tails' to be 0.3. In order to find the apropriate angle for our rotation, we need to do a bit of a guess and check. Have a try!  "
   ]
  },
  {
   "cell_type": "code",
   "execution_count": 11,
   "metadata": {},
   "outputs": [
    {
     "name": "stdout",
     "output_type": "stream",
     "text": [
      "(1+0j)|1>\n",
      "{'0': 3.749399456654644e-33, '1': 1.0}\n"
     ]
    }
   ],
   "source": [
    "main_program = Program() #Creates a quantum circuit program \n",
    "for i in range(n_qubits): \n",
    "    main_program += RY(theta/2.71,i) #Performs a Y-Rotation with the angle theta/2.71 on the ith qubit\n",
    "wave_function =  qvm.wavefunction(main_program) #Get the output quantum circuit wavefunction\n",
    "print(wave_function)\n",
    "probs_dist    =  wave_function.get_outcome_probs()  #Get the probability distribution\n",
    "print(probs_dist)\n"
   ]
  },
  {
   "attachments": {
    "593abfd9-3203-4f53-b9d4-35eaba35bd05.png": {
     "image/png": "[encoded data removed]"
    }
   },
   "cell_type": "markdown",
   "metadata": {},
   "source": [
    "![Screen Shot 2020-10-15 at 9.17.15 PM.png](attachment:593abfd9-3203-4f53-b9d4-35eaba35bd05.png)"
   ]
  },
  {
   "cell_type": "markdown",
   "metadata": {},
   "source": [
    "## Circuit 3: 0-100 Biased Coin"
   ]
  },
  {
   "cell_type": "markdown",
   "metadata": {},
   "source": [
    "In order to generate a 100-0 biased coin distribution, we want the probability of getting a 'Heads' to be 1 and the probability of getting a 'Tails'."
   ]
  },
  {
   "cell_type": "code",
   "execution_count": 54,
   "metadata": {},
   "outputs": [
    {
     "name": "stdout",
     "output_type": "stream",
     "text": [
      "{'0': 0.0, '1': 1.0}\n"
     ]
    }
   ],
   "source": [
    "main_program = Program() #Creates a quantum circuit program \n",
    "for i in range(n_qubits): \n",
    "    main_program += X(i) #Performs a Not Gate on the ith qubit \n",
    "wave_function =  qvm.wavefunction(main_program) #Get the output quantum circuit wavefunction\n",
    "probs_dist    =  wave_function.get_outcome_probs()  #Get the probability distribution\n",
    "print(probs_dist)"
   ]
  },
  {
   "attachments": {
    "0fa1266d-8560-4646-86b4-fa5250d8dcfd.png": {
     "image/png": "[encoded data removed]"
    }
   },
   "cell_type": "markdown",
   "metadata": {},
   "source": [
    "![Screen Shot 2020-10-15 at 9.17.40 PM.png](attachment:0fa1266d-8560-4646-86b4-fa5250d8dcfd.png)"
   ]
  }
 ],
 "metadata": {
  "kernelspec": {
   "display_name": "Python 3",
   "language": "python",
   "name": "python3"
  },
  "language_info": {
   "codemirror_mode": {
    "name": "ipython",
    "version": 3
   },
   "file_extension": ".py",
   "mimetype": "text/x-python",
   "name": "python",
   "nbconvert_exporter": "python",
   "pygments_lexer": "ipython3",
   "version": "3.8.5"
  }
 },
 "nbformat": 4,
 "nbformat_minor": 4
}
